{
 "cells": [
  {
   "cell_type": "markdown",
   "metadata": {},
   "source": [
    "## PubPol 542: Group Project"
   ]
  },
  {
   "cell_type": "markdown",
   "metadata": {},
   "source": [
    "### Cleaning Data: Graduation & Dropout Data "
   ]
  },
  {
   "cell_type": "markdown",
   "metadata": {},
   "source": [
    "#### Introduction"
   ]
  },
  {
   "cell_type": "markdown",
   "metadata": {},
   "source": [
    "This document outlines how to clean a datafile. The orginal dataset that is being cleaned is the Graduation and Droput Rate dataset during the 2018-2019 school year for all schools in Washington State. This data set was acquired from Data.WA.gov- the general purpose open data portal for the State of Washington."
   ]
  },
  {
   "cell_type": "markdown",
   "metadata": {},
   "source": [
    "#### 1. Loading Data"
   ]
  },
  {
   "cell_type": "markdown",
   "metadata": {},
   "source": [
    "1.1. Before we can load our dataframe from the github repository, we need to import the pandas package, because data frames are not directly supported by base Python. Let's import the pandas package and give the library a shorter name (\"pd\")."
   ]
  },
  {
   "cell_type": "code",
   "execution_count": 11,
   "metadata": {},
   "outputs": [],
   "source": [
    "# Importing the pandas package\n",
    "\n",
    "import pandas as pd"
   ]
  },
  {
   "cell_type": "markdown",
   "metadata": {},
   "source": [
    "1.2. Now, we're ready to upload our data from the github repository. To do this, we need to give the github repository url that has the a data a name (\"location\"). "
   ]
  },
  {
   "cell_type": "code",
   "execution_count": 12,
   "metadata": {},
   "outputs": [],
   "source": [
    "# Saving github repository data pathway as \"location\"\n",
    "\n",
    "location='https://raw.githubusercontent.com/PUBPOL-542-Group-1-Project/madelynsather/main/datafiles/Report_Card_Graduation_2018-19.csv'"
   ]
  },
  {
   "cell_type": "markdown",
   "metadata": {},
   "source": [
    "1.3. The dataframe is saved as a csv file. Let's read in the data and save our data under the name \"grad\"."
   ]
  },
  {
   "cell_type": "code",
   "execution_count": 13,
   "metadata": {},
   "outputs": [],
   "source": [
    "# Loading data\n",
    "\n",
    "grad=pd.read_csv(location)"
   ]
  },
  {
   "cell_type": "markdown",
   "metadata": {},
   "source": [
    "#### 2. Explore Data"
   ]
  },
  {
   "cell_type": "markdown",
   "metadata": {},
   "source": [
    "2.1. Let's make sure the data loaded properly by looking at the first 5 rows of the dataset. "
   ]
  },
  {
   "cell_type": "code",
   "execution_count": 14,
   "metadata": {},
   "outputs": [
    {
     "data": {
      "text/html": [
       "<div>\n",
       "<style scoped>\n",
       "    .dataframe tbody tr th:only-of-type {\n",
       "        vertical-align: middle;\n",
       "    }\n",
       "\n",
       "    .dataframe tbody tr th {\n",
       "        vertical-align: top;\n",
       "    }\n",
       "\n",
       "    .dataframe thead th {\n",
       "        text-align: right;\n",
       "    }\n",
       "</style>\n",
       "<table border=\"1\" class=\"dataframe\">\n",
       "  <thead>\n",
       "    <tr style=\"text-align: right;\">\n",
       "      <th></th>\n",
       "      <th>SchoolYear</th>\n",
       "      <th>OrganizationLevel</th>\n",
       "      <th>County</th>\n",
       "      <th>ESDName</th>\n",
       "      <th>ESDOrganizationID</th>\n",
       "      <th>DistrictCode</th>\n",
       "      <th>DistrictName</th>\n",
       "      <th>DistrictOrganizationId</th>\n",
       "      <th>SchoolCode</th>\n",
       "      <th>SchoolName</th>\n",
       "      <th>SchoolOrganizationid</th>\n",
       "      <th>CurrentSchoolType</th>\n",
       "      <th>StudentGroupType</th>\n",
       "      <th>StudentGroup</th>\n",
       "      <th>Suppression</th>\n",
       "      <th>Cohort</th>\n",
       "      <th>BegginingGrade9</th>\n",
       "      <th>TransferIn</th>\n",
       "      <th>Year1Dropout</th>\n",
       "      <th>Year2Dropout</th>\n",
       "      <th>Year3Dropout</th>\n",
       "      <th>Year4Dropout</th>\n",
       "      <th>Year5Dropout</th>\n",
       "      <th>Year6Dropout</th>\n",
       "      <th>Year7Dropout</th>\n",
       "      <th>TransferOut</th>\n",
       "      <th>FinalCohort</th>\n",
       "      <th>Graduate</th>\n",
       "      <th>Continuing</th>\n",
       "      <th>Dropout</th>\n",
       "      <th>GraduationRate</th>\n",
       "      <th>DataAsOf</th>\n",
       "    </tr>\n",
       "  </thead>\n",
       "  <tbody>\n",
       "    <tr>\n",
       "      <th>0</th>\n",
       "      <td>2019</td>\n",
       "      <td>State</td>\n",
       "      <td>Multiple</td>\n",
       "      <td>State Total</td>\n",
       "      <td>NaN</td>\n",
       "      <td>NaN</td>\n",
       "      <td>State Total</td>\n",
       "      <td>NaN</td>\n",
       "      <td>NaN</td>\n",
       "      <td>State Total</td>\n",
       "      <td>NaN</td>\n",
       "      <td>NaN</td>\n",
       "      <td>504</td>\n",
       "      <td>Non Section 504</td>\n",
       "      <td>No Suppression</td>\n",
       "      <td>Six Year</td>\n",
       "      <td>75929.0</td>\n",
       "      <td>12723.0</td>\n",
       "      <td>414.0</td>\n",
       "      <td>816.0</td>\n",
       "      <td>1870.0</td>\n",
       "      <td>4055.0</td>\n",
       "      <td>2612.0</td>\n",
       "      <td>1588.0</td>\n",
       "      <td>NaN</td>\n",
       "      <td>10451.0</td>\n",
       "      <td>78201.0</td>\n",
       "      <td>65643.0</td>\n",
       "      <td>1203.0</td>\n",
       "      <td>11355.0</td>\n",
       "      <td>0.8394</td>\n",
       "      <td>12/14/2020 12:00:00 AM</td>\n",
       "    </tr>\n",
       "    <tr>\n",
       "      <th>1</th>\n",
       "      <td>2019</td>\n",
       "      <td>State</td>\n",
       "      <td>Multiple</td>\n",
       "      <td>State Total</td>\n",
       "      <td>NaN</td>\n",
       "      <td>NaN</td>\n",
       "      <td>State Total</td>\n",
       "      <td>NaN</td>\n",
       "      <td>NaN</td>\n",
       "      <td>State Total</td>\n",
       "      <td>NaN</td>\n",
       "      <td>NaN</td>\n",
       "      <td>504</td>\n",
       "      <td>Non Section 504</td>\n",
       "      <td>No Suppression</td>\n",
       "      <td>Seven Year</td>\n",
       "      <td>75658.0</td>\n",
       "      <td>12529.0</td>\n",
       "      <td>418.0</td>\n",
       "      <td>811.0</td>\n",
       "      <td>1833.0</td>\n",
       "      <td>4040.0</td>\n",
       "      <td>2564.0</td>\n",
       "      <td>1312.0</td>\n",
       "      <td>779.0</td>\n",
       "      <td>10902.0</td>\n",
       "      <td>77285.0</td>\n",
       "      <td>65451.0</td>\n",
       "      <td>77.0</td>\n",
       "      <td>11757.0</td>\n",
       "      <td>0.8469</td>\n",
       "      <td>12/14/2020 12:00:00 AM</td>\n",
       "    </tr>\n",
       "    <tr>\n",
       "      <th>2</th>\n",
       "      <td>2019</td>\n",
       "      <td>State</td>\n",
       "      <td>Multiple</td>\n",
       "      <td>State Total</td>\n",
       "      <td>NaN</td>\n",
       "      <td>NaN</td>\n",
       "      <td>State Total</td>\n",
       "      <td>NaN</td>\n",
       "      <td>NaN</td>\n",
       "      <td>State Total</td>\n",
       "      <td>NaN</td>\n",
       "      <td>NaN</td>\n",
       "      <td>504</td>\n",
       "      <td>Non Section 504</td>\n",
       "      <td>No Suppression</td>\n",
       "      <td>Five Year</td>\n",
       "      <td>76503.0</td>\n",
       "      <td>12358.0</td>\n",
       "      <td>384.0</td>\n",
       "      <td>844.0</td>\n",
       "      <td>1873.0</td>\n",
       "      <td>4080.0</td>\n",
       "      <td>3078.0</td>\n",
       "      <td>NaN</td>\n",
       "      <td>NaN</td>\n",
       "      <td>10016.0</td>\n",
       "      <td>78845.0</td>\n",
       "      <td>66194.0</td>\n",
       "      <td>2392.0</td>\n",
       "      <td>10259.0</td>\n",
       "      <td>0.8395</td>\n",
       "      <td>12/14/2020 12:00:00 AM</td>\n",
       "    </tr>\n",
       "    <tr>\n",
       "      <th>3</th>\n",
       "      <td>2019</td>\n",
       "      <td>State</td>\n",
       "      <td>Multiple</td>\n",
       "      <td>State Total</td>\n",
       "      <td>NaN</td>\n",
       "      <td>NaN</td>\n",
       "      <td>State Total</td>\n",
       "      <td>NaN</td>\n",
       "      <td>NaN</td>\n",
       "      <td>State Total</td>\n",
       "      <td>NaN</td>\n",
       "      <td>NaN</td>\n",
       "      <td>504</td>\n",
       "      <td>Non Section 504</td>\n",
       "      <td>No Suppression</td>\n",
       "      <td>Four Year</td>\n",
       "      <td>76104.0</td>\n",
       "      <td>12164.0</td>\n",
       "      <td>409.0</td>\n",
       "      <td>900.0</td>\n",
       "      <td>2116.0</td>\n",
       "      <td>5297.0</td>\n",
       "      <td>NaN</td>\n",
       "      <td>NaN</td>\n",
       "      <td>NaN</td>\n",
       "      <td>10357.0</td>\n",
       "      <td>77911.0</td>\n",
       "      <td>63165.0</td>\n",
       "      <td>6024.0</td>\n",
       "      <td>8722.0</td>\n",
       "      <td>0.8107</td>\n",
       "      <td>12/14/2020 12:00:00 AM</td>\n",
       "    </tr>\n",
       "    <tr>\n",
       "      <th>4</th>\n",
       "      <td>2019</td>\n",
       "      <td>State</td>\n",
       "      <td>Multiple</td>\n",
       "      <td>State Total</td>\n",
       "      <td>NaN</td>\n",
       "      <td>NaN</td>\n",
       "      <td>State Total</td>\n",
       "      <td>NaN</td>\n",
       "      <td>NaN</td>\n",
       "      <td>State Total</td>\n",
       "      <td>NaN</td>\n",
       "      <td>NaN</td>\n",
       "      <td>504</td>\n",
       "      <td>Section 504</td>\n",
       "      <td>No Suppression</td>\n",
       "      <td>Six Year</td>\n",
       "      <td>5139.0</td>\n",
       "      <td>334.0</td>\n",
       "      <td>6.0</td>\n",
       "      <td>30.0</td>\n",
       "      <td>94.0</td>\n",
       "      <td>295.0</td>\n",
       "      <td>186.0</td>\n",
       "      <td>141.0</td>\n",
       "      <td>NaN</td>\n",
       "      <td>389.0</td>\n",
       "      <td>5084.0</td>\n",
       "      <td>4236.0</td>\n",
       "      <td>96.0</td>\n",
       "      <td>752.0</td>\n",
       "      <td>0.8332</td>\n",
       "      <td>12/14/2020 12:00:00 AM</td>\n",
       "    </tr>\n",
       "  </tbody>\n",
       "</table>\n",
       "</div>"
      ],
      "text/plain": [
       "   SchoolYear OrganizationLevel    County      ESDName  ESDOrganizationID  \\\n",
       "0        2019             State  Multiple  State Total                NaN   \n",
       "1        2019             State  Multiple  State Total                NaN   \n",
       "2        2019             State  Multiple  State Total                NaN   \n",
       "3        2019             State  Multiple  State Total                NaN   \n",
       "4        2019             State  Multiple  State Total                NaN   \n",
       "\n",
       "   DistrictCode DistrictName  DistrictOrganizationId  SchoolCode   SchoolName  \\\n",
       "0           NaN  State Total                     NaN         NaN  State Total   \n",
       "1           NaN  State Total                     NaN         NaN  State Total   \n",
       "2           NaN  State Total                     NaN         NaN  State Total   \n",
       "3           NaN  State Total                     NaN         NaN  State Total   \n",
       "4           NaN  State Total                     NaN         NaN  State Total   \n",
       "\n",
       "   SchoolOrganizationid  CurrentSchoolType StudentGroupType     StudentGroup  \\\n",
       "0                   NaN                NaN              504  Non Section 504   \n",
       "1                   NaN                NaN              504  Non Section 504   \n",
       "2                   NaN                NaN              504  Non Section 504   \n",
       "3                   NaN                NaN              504  Non Section 504   \n",
       "4                   NaN                NaN              504      Section 504   \n",
       "\n",
       "      Suppression      Cohort  BegginingGrade9  TransferIn  Year1Dropout  \\\n",
       "0  No Suppression    Six Year          75929.0     12723.0         414.0   \n",
       "1  No Suppression  Seven Year          75658.0     12529.0         418.0   \n",
       "2  No Suppression   Five Year          76503.0     12358.0         384.0   \n",
       "3  No Suppression   Four Year          76104.0     12164.0         409.0   \n",
       "4  No Suppression    Six Year           5139.0       334.0           6.0   \n",
       "\n",
       "   Year2Dropout  Year3Dropout  Year4Dropout  Year5Dropout  Year6Dropout  \\\n",
       "0         816.0        1870.0        4055.0        2612.0        1588.0   \n",
       "1         811.0        1833.0        4040.0        2564.0        1312.0   \n",
       "2         844.0        1873.0        4080.0        3078.0           NaN   \n",
       "3         900.0        2116.0        5297.0           NaN           NaN   \n",
       "4          30.0          94.0         295.0         186.0         141.0   \n",
       "\n",
       "   Year7Dropout  TransferOut  FinalCohort  Graduate  Continuing  Dropout  \\\n",
       "0           NaN      10451.0      78201.0   65643.0      1203.0  11355.0   \n",
       "1         779.0      10902.0      77285.0   65451.0        77.0  11757.0   \n",
       "2           NaN      10016.0      78845.0   66194.0      2392.0  10259.0   \n",
       "3           NaN      10357.0      77911.0   63165.0      6024.0   8722.0   \n",
       "4           NaN        389.0       5084.0    4236.0        96.0    752.0   \n",
       "\n",
       "   GraduationRate                DataAsOf  \n",
       "0          0.8394  12/14/2020 12:00:00 AM  \n",
       "1          0.8469  12/14/2020 12:00:00 AM  \n",
       "2          0.8395  12/14/2020 12:00:00 AM  \n",
       "3          0.8107  12/14/2020 12:00:00 AM  \n",
       "4          0.8332  12/14/2020 12:00:00 AM  "
      ]
     },
     "execution_count": 14,
     "metadata": {},
     "output_type": "execute_result"
    }
   ],
   "source": [
    "# Explore the first 5 rows of the dataset\n",
    "\n",
    "grad.head()"
   ]
  },
  {
   "cell_type": "markdown",
   "metadata": {},
   "source": [
    "2.2. Let's look at the data types for each variable in the dataframe. "
   ]
  },
  {
   "cell_type": "code",
   "execution_count": 15,
   "metadata": {},
   "outputs": [
    {
     "name": "stdout",
     "output_type": "stream",
     "text": [
      "<class 'pandas.core.frame.DataFrame'>\n",
      "RangeIndex: 81265 entries, 0 to 81264\n",
      "Data columns (total 32 columns):\n",
      " #   Column                  Non-Null Count  Dtype  \n",
      "---  ------                  --------------  -----  \n",
      " 0   SchoolYear              81265 non-null  int64  \n",
      " 1   OrganizationLevel       81265 non-null  object \n",
      " 2   County                  81265 non-null  object \n",
      " 3   ESDName                 75773 non-null  object \n",
      " 4   ESDOrganizationID       79301 non-null  float64\n",
      " 5   DistrictCode            76616 non-null  float64\n",
      " 6   DistrictName            77637 non-null  object \n",
      " 7   DistrictOrganizationId  80244 non-null  float64\n",
      " 8   SchoolCode              55737 non-null  float64\n",
      " 9   SchoolName              77637 non-null  object \n",
      " 10  SchoolOrganizationid    59365 non-null  float64\n",
      " 11  CurrentSchoolType       0 non-null      float64\n",
      " 12  StudentGroupType        81265 non-null  object \n",
      " 13  StudentGroup            81265 non-null  object \n",
      " 14  Suppression             81265 non-null  object \n",
      " 15  Cohort                  81265 non-null  object \n",
      " 16  BegginingGrade9         30824 non-null  float64\n",
      " 17  TransferIn              28561 non-null  float64\n",
      " 18  Year1Dropout            10942 non-null  float64\n",
      " 19  Year2Dropout            16752 non-null  float64\n",
      " 20  Year3Dropout            21824 non-null  float64\n",
      " 21  Year4Dropout            25524 non-null  float64\n",
      " 22  Year5Dropout            16099 non-null  float64\n",
      " 23  Year6Dropout            7390 non-null   float64\n",
      " 24  Year7Dropout            2246 non-null   float64\n",
      " 25  TransferOut             31713 non-null  float64\n",
      " 26  FinalCohort             31713 non-null  float64\n",
      " 27  Graduate                31713 non-null  float64\n",
      " 28  Continuing              31713 non-null  float64\n",
      " 29  Dropout                 31713 non-null  float64\n",
      " 30  GraduationRate          37947 non-null  float64\n",
      " 31  DataAsOf                81265 non-null  object \n",
      "dtypes: float64(21), int64(1), object(10)\n",
      "memory usage: 19.8+ MB\n"
     ]
    }
   ],
   "source": [
    "# Explore the data types for each variable in the dataset\n",
    "\n",
    "grad.info()"
   ]
  },
  {
   "cell_type": "markdown",
   "metadata": {},
   "source": [
    "2.3. Let's look at some summary statistics of the variables in the dataset."
   ]
  },
  {
   "cell_type": "code",
   "execution_count": 16,
   "metadata": {},
   "outputs": [
    {
     "data": {
      "text/html": [
       "<div>\n",
       "<style scoped>\n",
       "    .dataframe tbody tr th:only-of-type {\n",
       "        vertical-align: middle;\n",
       "    }\n",
       "\n",
       "    .dataframe tbody tr th {\n",
       "        vertical-align: top;\n",
       "    }\n",
       "\n",
       "    .dataframe thead th {\n",
       "        text-align: right;\n",
       "    }\n",
       "</style>\n",
       "<table border=\"1\" class=\"dataframe\">\n",
       "  <thead>\n",
       "    <tr style=\"text-align: right;\">\n",
       "      <th></th>\n",
       "      <th>SchoolYear</th>\n",
       "      <th>ESDOrganizationID</th>\n",
       "      <th>DistrictCode</th>\n",
       "      <th>DistrictOrganizationId</th>\n",
       "      <th>SchoolCode</th>\n",
       "      <th>SchoolOrganizationid</th>\n",
       "      <th>CurrentSchoolType</th>\n",
       "      <th>BegginingGrade9</th>\n",
       "      <th>TransferIn</th>\n",
       "      <th>Year1Dropout</th>\n",
       "      <th>Year2Dropout</th>\n",
       "      <th>Year3Dropout</th>\n",
       "      <th>Year4Dropout</th>\n",
       "      <th>Year5Dropout</th>\n",
       "      <th>Year6Dropout</th>\n",
       "      <th>Year7Dropout</th>\n",
       "      <th>TransferOut</th>\n",
       "      <th>FinalCohort</th>\n",
       "      <th>Graduate</th>\n",
       "      <th>Continuing</th>\n",
       "      <th>Dropout</th>\n",
       "      <th>GraduationRate</th>\n",
       "    </tr>\n",
       "  </thead>\n",
       "  <tbody>\n",
       "    <tr>\n",
       "      <th>count</th>\n",
       "      <td>81265.0</td>\n",
       "      <td>79301.000000</td>\n",
       "      <td>76616.000000</td>\n",
       "      <td>80244.000000</td>\n",
       "      <td>55737.000000</td>\n",
       "      <td>59365.000000</td>\n",
       "      <td>0.0</td>\n",
       "      <td>30824.000000</td>\n",
       "      <td>28561.000000</td>\n",
       "      <td>10942.000000</td>\n",
       "      <td>16752.000000</td>\n",
       "      <td>21824.000000</td>\n",
       "      <td>25524.000000</td>\n",
       "      <td>16099.000000</td>\n",
       "      <td>7390.000000</td>\n",
       "      <td>2246.000000</td>\n",
       "      <td>31713.000000</td>\n",
       "      <td>31713.000000</td>\n",
       "      <td>31713.000000</td>\n",
       "      <td>31713.000000</td>\n",
       "      <td>31713.000000</td>\n",
       "      <td>37947.000000</td>\n",
       "    </tr>\n",
       "    <tr>\n",
       "      <th>mean</th>\n",
       "      <td>2019.0</td>\n",
       "      <td>95442.218068</td>\n",
       "      <td>22469.144226</td>\n",
       "      <td>95706.161482</td>\n",
       "      <td>3494.391679</td>\n",
       "      <td>96508.235627</td>\n",
       "      <td>NaN</td>\n",
       "      <td>441.520893</td>\n",
       "      <td>73.790378</td>\n",
       "      <td>6.282124</td>\n",
       "      <td>8.743314</td>\n",
       "      <td>14.925220</td>\n",
       "      <td>28.764300</td>\n",
       "      <td>20.720480</td>\n",
       "      <td>15.132612</td>\n",
       "      <td>12.436776</td>\n",
       "      <td>56.499070</td>\n",
       "      <td>439.101063</td>\n",
       "      <td>371.027370</td>\n",
       "      <td>12.939930</td>\n",
       "      <td>55.133762</td>\n",
       "      <td>0.777177</td>\n",
       "    </tr>\n",
       "    <tr>\n",
       "      <th>std</th>\n",
       "      <td>0.0</td>\n",
       "      <td>20899.779061</td>\n",
       "      <td>10445.823795</td>\n",
       "      <td>20836.184328</td>\n",
       "      <td>1293.318617</td>\n",
       "      <td>24679.902489</td>\n",
       "      <td>NaN</td>\n",
       "      <td>2913.909588</td>\n",
       "      <td>465.578670</td>\n",
       "      <td>24.267000</td>\n",
       "      <td>41.223389</td>\n",
       "      <td>83.285881</td>\n",
       "      <td>178.107012</td>\n",
       "      <td>121.467262</td>\n",
       "      <td>77.458973</td>\n",
       "      <td>53.217445</td>\n",
       "      <td>376.797015</td>\n",
       "      <td>2938.632317</td>\n",
       "      <td>2479.393692</td>\n",
       "      <td>122.717249</td>\n",
       "      <td>382.448020</td>\n",
       "      <td>0.201418</td>\n",
       "    </tr>\n",
       "    <tr>\n",
       "      <th>min</th>\n",
       "      <td>2019.0</td>\n",
       "      <td>0.000000</td>\n",
       "      <td>1109.000000</td>\n",
       "      <td>0.000000</td>\n",
       "      <td>1500.000000</td>\n",
       "      <td>0.000000</td>\n",
       "      <td>NaN</td>\n",
       "      <td>1.000000</td>\n",
       "      <td>1.000000</td>\n",
       "      <td>1.000000</td>\n",
       "      <td>1.000000</td>\n",
       "      <td>1.000000</td>\n",
       "      <td>1.000000</td>\n",
       "      <td>1.000000</td>\n",
       "      <td>1.000000</td>\n",
       "      <td>1.000000</td>\n",
       "      <td>0.000000</td>\n",
       "      <td>0.000000</td>\n",
       "      <td>0.000000</td>\n",
       "      <td>0.000000</td>\n",
       "      <td>0.000000</td>\n",
       "      <td>0.014300</td>\n",
       "    </tr>\n",
       "    <tr>\n",
       "      <th>25%</th>\n",
       "      <td>2019.0</td>\n",
       "      <td>100003.000000</td>\n",
       "      <td>17001.000000</td>\n",
       "      <td>100075.000000</td>\n",
       "      <td>2386.000000</td>\n",
       "      <td>101183.000000</td>\n",
       "      <td>NaN</td>\n",
       "      <td>21.000000</td>\n",
       "      <td>5.000000</td>\n",
       "      <td>1.000000</td>\n",
       "      <td>1.000000</td>\n",
       "      <td>1.000000</td>\n",
       "      <td>2.000000</td>\n",
       "      <td>2.000000</td>\n",
       "      <td>1.000000</td>\n",
       "      <td>1.000000</td>\n",
       "      <td>2.000000</td>\n",
       "      <td>20.000000</td>\n",
       "      <td>12.000000</td>\n",
       "      <td>0.000000</td>\n",
       "      <td>3.000000</td>\n",
       "      <td>0.727300</td>\n",
       "    </tr>\n",
       "    <tr>\n",
       "      <th>50%</th>\n",
       "      <td>2019.0</td>\n",
       "      <td>100006.000000</td>\n",
       "      <td>22009.000000</td>\n",
       "      <td>100150.000000</td>\n",
       "      <td>3330.000000</td>\n",
       "      <td>102293.000000</td>\n",
       "      <td>NaN</td>\n",
       "      <td>73.000000</td>\n",
       "      <td>14.000000</td>\n",
       "      <td>2.000000</td>\n",
       "      <td>2.000000</td>\n",
       "      <td>3.000000</td>\n",
       "      <td>5.000000</td>\n",
       "      <td>3.000000</td>\n",
       "      <td>2.000000</td>\n",
       "      <td>2.000000</td>\n",
       "      <td>9.000000</td>\n",
       "      <td>72.000000</td>\n",
       "      <td>53.000000</td>\n",
       "      <td>1.000000</td>\n",
       "      <td>9.000000</td>\n",
       "      <td>0.847700</td>\n",
       "    </tr>\n",
       "    <tr>\n",
       "      <th>75%</th>\n",
       "      <td>2019.0</td>\n",
       "      <td>100007.000000</td>\n",
       "      <td>31311.000000</td>\n",
       "      <td>100231.000000</td>\n",
       "      <td>4585.000000</td>\n",
       "      <td>103918.000000</td>\n",
       "      <td>NaN</td>\n",
       "      <td>234.000000</td>\n",
       "      <td>38.000000</td>\n",
       "      <td>4.000000</td>\n",
       "      <td>5.000000</td>\n",
       "      <td>7.000000</td>\n",
       "      <td>13.000000</td>\n",
       "      <td>9.000000</td>\n",
       "      <td>7.000000</td>\n",
       "      <td>6.000000</td>\n",
       "      <td>28.000000</td>\n",
       "      <td>231.000000</td>\n",
       "      <td>205.000000</td>\n",
       "      <td>5.000000</td>\n",
       "      <td>23.000000</td>\n",
       "      <td>0.911900</td>\n",
       "    </tr>\n",
       "    <tr>\n",
       "      <th>max</th>\n",
       "      <td>2019.0</td>\n",
       "      <td>105798.000000</td>\n",
       "      <td>39209.000000</td>\n",
       "      <td>106180.000000</td>\n",
       "      <td>5957.000000</td>\n",
       "      <td>106182.000000</td>\n",
       "      <td>NaN</td>\n",
       "      <td>82611.000000</td>\n",
       "      <td>13057.000000</td>\n",
       "      <td>424.000000</td>\n",
       "      <td>948.000000</td>\n",
       "      <td>2270.000000</td>\n",
       "      <td>5779.000000</td>\n",
       "      <td>3360.000000</td>\n",
       "      <td>1729.000000</td>\n",
       "      <td>841.000000</td>\n",
       "      <td>11307.000000</td>\n",
       "      <td>84653.000000</td>\n",
       "      <td>70973.000000</td>\n",
       "      <td>6653.000000</td>\n",
       "      <td>12476.000000</td>\n",
       "      <td>0.989800</td>\n",
       "    </tr>\n",
       "  </tbody>\n",
       "</table>\n",
       "</div>"
      ],
      "text/plain": [
       "       SchoolYear  ESDOrganizationID  DistrictCode  DistrictOrganizationId  \\\n",
       "count     81265.0       79301.000000  76616.000000            80244.000000   \n",
       "mean       2019.0       95442.218068  22469.144226            95706.161482   \n",
       "std           0.0       20899.779061  10445.823795            20836.184328   \n",
       "min        2019.0           0.000000   1109.000000                0.000000   \n",
       "25%        2019.0      100003.000000  17001.000000           100075.000000   \n",
       "50%        2019.0      100006.000000  22009.000000           100150.000000   \n",
       "75%        2019.0      100007.000000  31311.000000           100231.000000   \n",
       "max        2019.0      105798.000000  39209.000000           106180.000000   \n",
       "\n",
       "         SchoolCode  SchoolOrganizationid  CurrentSchoolType  BegginingGrade9  \\\n",
       "count  55737.000000          59365.000000                0.0     30824.000000   \n",
       "mean    3494.391679          96508.235627                NaN       441.520893   \n",
       "std     1293.318617          24679.902489                NaN      2913.909588   \n",
       "min     1500.000000              0.000000                NaN         1.000000   \n",
       "25%     2386.000000         101183.000000                NaN        21.000000   \n",
       "50%     3330.000000         102293.000000                NaN        73.000000   \n",
       "75%     4585.000000         103918.000000                NaN       234.000000   \n",
       "max     5957.000000         106182.000000                NaN     82611.000000   \n",
       "\n",
       "         TransferIn  Year1Dropout  Year2Dropout  Year3Dropout  Year4Dropout  \\\n",
       "count  28561.000000  10942.000000  16752.000000  21824.000000  25524.000000   \n",
       "mean      73.790378      6.282124      8.743314     14.925220     28.764300   \n",
       "std      465.578670     24.267000     41.223389     83.285881    178.107012   \n",
       "min        1.000000      1.000000      1.000000      1.000000      1.000000   \n",
       "25%        5.000000      1.000000      1.000000      1.000000      2.000000   \n",
       "50%       14.000000      2.000000      2.000000      3.000000      5.000000   \n",
       "75%       38.000000      4.000000      5.000000      7.000000     13.000000   \n",
       "max    13057.000000    424.000000    948.000000   2270.000000   5779.000000   \n",
       "\n",
       "       Year5Dropout  Year6Dropout  Year7Dropout   TransferOut   FinalCohort  \\\n",
       "count  16099.000000   7390.000000   2246.000000  31713.000000  31713.000000   \n",
       "mean      20.720480     15.132612     12.436776     56.499070    439.101063   \n",
       "std      121.467262     77.458973     53.217445    376.797015   2938.632317   \n",
       "min        1.000000      1.000000      1.000000      0.000000      0.000000   \n",
       "25%        2.000000      1.000000      1.000000      2.000000     20.000000   \n",
       "50%        3.000000      2.000000      2.000000      9.000000     72.000000   \n",
       "75%        9.000000      7.000000      6.000000     28.000000    231.000000   \n",
       "max     3360.000000   1729.000000    841.000000  11307.000000  84653.000000   \n",
       "\n",
       "           Graduate    Continuing       Dropout  GraduationRate  \n",
       "count  31713.000000  31713.000000  31713.000000    37947.000000  \n",
       "mean     371.027370     12.939930     55.133762        0.777177  \n",
       "std     2479.393692    122.717249    382.448020        0.201418  \n",
       "min        0.000000      0.000000      0.000000        0.014300  \n",
       "25%       12.000000      0.000000      3.000000        0.727300  \n",
       "50%       53.000000      1.000000      9.000000        0.847700  \n",
       "75%      205.000000      5.000000     23.000000        0.911900  \n",
       "max    70973.000000   6653.000000  12476.000000        0.989800  "
      ]
     },
     "execution_count": 16,
     "metadata": {},
     "output_type": "execute_result"
    }
   ],
   "source": [
    "# Summary statistics\n",
    "\n",
    "grad.describe()"
   ]
  },
  {
   "cell_type": "markdown",
   "metadata": {},
   "source": [
    "#### 3. Cleaning Data: Dropping Variables (Columns)"
   ]
  },
  {
   "cell_type": "markdown",
   "metadata": {},
   "source": [
    "3.1. First, let's make sure we can see all rows and columns."
   ]
  },
  {
   "cell_type": "code",
   "execution_count": 17,
   "metadata": {},
   "outputs": [],
   "source": [
    "# Display all rows and columns\n",
    "\n",
    "pd.set_option('display.max_rows',grad.shape[0]+1)\n",
    "pd.set_option('display.max_columns', None)"
   ]
  },
  {
   "cell_type": "markdown",
   "metadata": {},
   "source": [
    "3.2. We don't need columns 0-4, 7, 10, 11, 13, 14, 22-24, 31 (see above). Let's drop these variables."
   ]
  },
  {
   "cell_type": "code",
   "execution_count": 18,
   "metadata": {},
   "outputs": [],
   "source": [
    "# Drop variables we don't need\n",
    "\n",
    "grad.drop(grad.iloc[:,[0,1,2,3,4,7,10,11,13,14,22,23,24,31]], axis=1, inplace=True)"
   ]
  },
  {
   "cell_type": "markdown",
   "metadata": {},
   "source": [
    "3.3. Let's verify that this worked by looking at all the variables in the dataset."
   ]
  },
  {
   "cell_type": "code",
   "execution_count": 19,
   "metadata": {},
   "outputs": [
    {
     "name": "stdout",
     "output_type": "stream",
     "text": [
      "<class 'pandas.core.frame.DataFrame'>\n",
      "RangeIndex: 81265 entries, 0 to 81264\n",
      "Data columns (total 18 columns):\n",
      " #   Column            Non-Null Count  Dtype  \n",
      "---  ------            --------------  -----  \n",
      " 0   DistrictCode      76616 non-null  float64\n",
      " 1   DistrictName      77637 non-null  object \n",
      " 2   SchoolCode        55737 non-null  float64\n",
      " 3   SchoolName        77637 non-null  object \n",
      " 4   StudentGroupType  81265 non-null  object \n",
      " 5   Cohort            81265 non-null  object \n",
      " 6   BegginingGrade9   30824 non-null  float64\n",
      " 7   TransferIn        28561 non-null  float64\n",
      " 8   Year1Dropout      10942 non-null  float64\n",
      " 9   Year2Dropout      16752 non-null  float64\n",
      " 10  Year3Dropout      21824 non-null  float64\n",
      " 11  Year4Dropout      25524 non-null  float64\n",
      " 12  TransferOut       31713 non-null  float64\n",
      " 13  FinalCohort       31713 non-null  float64\n",
      " 14  Graduate          31713 non-null  float64\n",
      " 15  Continuing        31713 non-null  float64\n",
      " 16  Dropout           31713 non-null  float64\n",
      " 17  GraduationRate    37947 non-null  float64\n",
      "dtypes: float64(14), object(4)\n",
      "memory usage: 11.2+ MB\n"
     ]
    }
   ],
   "source": [
    "# Explore the variables in the dataset\n",
    "\n",
    "grad.info()"
   ]
  },
  {
   "cell_type": "markdown",
   "metadata": {},
   "source": [
    "#### 4. Cleaning Data: Dropping Rows"
   ]
  },
  {
   "cell_type": "markdown",
   "metadata": {},
   "source": [
    "4.1. We are only looking at seniors in high school in our analysis, so let's drop all other grades in the dataset. We can do this using the Cohort variable. First, let's explore the levels of this variable to know what rows we need to drop."
   ]
  },
  {
   "cell_type": "code",
   "execution_count": 20,
   "metadata": {},
   "outputs": [
    {
     "data": {
      "text/plain": [
       "Seven Year    20411\n",
       "Six Year      20324\n",
       "Four Year     20269\n",
       "Five Year     20261\n",
       "Name: Cohort, dtype: int64"
      ]
     },
     "execution_count": 20,
     "metadata": {},
     "output_type": "execute_result"
    }
   ],
   "source": [
    "# Explore the levels of Cohort variable\n",
    "\n",
    "grad['Cohort'].value_counts()"
   ]
  },
  {
   "cell_type": "markdown",
   "metadata": {},
   "source": [
    "We only want to keep \"Four Year\", which is grade 12. We need to drop all of the other levels of this variable."
   ]
  },
  {
   "cell_type": "code",
   "execution_count": 21,
   "metadata": {},
   "outputs": [],
   "source": [
    "# Only keep grade 12\n",
    "\n",
    "grad=grad[(grad.Cohort== 'Four Year')]"
   ]
  },
  {
   "cell_type": "markdown",
   "metadata": {},
   "source": [
    "Let's verify that this worked by looking at the levels of the Cohort variable again. "
   ]
  },
  {
   "cell_type": "code",
   "execution_count": 22,
   "metadata": {},
   "outputs": [
    {
     "data": {
      "text/plain": [
       "Four Year    20269\n",
       "Name: Cohort, dtype: int64"
      ]
     },
     "execution_count": 22,
     "metadata": {},
     "output_type": "execute_result"
    }
   ],
   "source": [
    "# Explore the levels of Cohort variable\n",
    "\n",
    "grad['Cohort'].value_counts()"
   ]
  },
  {
   "cell_type": "markdown",
   "metadata": {},
   "source": [
    "4.2. There are some rows in the dataset that are totals for the entire state. Let's drop these rows from the dataset. First, let's look at the shape of the dataset (the number of observations and the number of columns."
   ]
  },
  {
   "cell_type": "code",
   "execution_count": 23,
   "metadata": {},
   "outputs": [
    {
     "data": {
      "text/plain": [
       "(20269, 18)"
      ]
     },
     "execution_count": 23,
     "metadata": {},
     "output_type": "execute_result"
    }
   ],
   "source": [
    "# Number of observations and number of columns in dataset\n",
    "\n",
    "grad.shape"
   ]
  },
  {
   "cell_type": "markdown",
   "metadata": {},
   "source": [
    "Let's drop the state totals from the dataset."
   ]
  },
  {
   "cell_type": "code",
   "execution_count": 26,
   "metadata": {},
   "outputs": [],
   "source": [
    "# Drop rows with state totals\n",
    "\n",
    "to_drop=['State Total']\n",
    "grad=grad[~grad['SchoolName'].isin(to_drop)]"
   ]
  },
  {
   "cell_type": "markdown",
   "metadata": {},
   "source": [
    "Let's verify that this worked by looking at the shape of the dataset again."
   ]
  },
  {
   "cell_type": "code",
   "execution_count": 27,
   "metadata": {},
   "outputs": [
    {
     "data": {
      "text/plain": [
       "(20244, 18)"
      ]
     },
     "execution_count": 27,
     "metadata": {},
     "output_type": "execute_result"
    }
   ],
   "source": [
    "# Number of observations and number of columns in dataset\n",
    "\n",
    "grad.shape"
   ]
  },
  {
   "cell_type": "markdown",
   "metadata": {},
   "source": [
    "4.3. There are some rows in the dataset that are totals for the entire school district. Let's drop these rows from the dataset. We can do this by dropping rows where the SchoolName=District Total."
   ]
  },
  {
   "cell_type": "code",
   "execution_count": 28,
   "metadata": {},
   "outputs": [],
   "source": [
    "# Drop rows if SchoolName=District Total\n",
    "\n",
    "to_drop=['District Total']\n",
    "grad=grad[~grad['SchoolName'].isin(to_drop)]"
   ]
  },
  {
   "cell_type": "markdown",
   "metadata": {},
   "source": [
    "We also want to drop rows if the SchoolName is missing (SchoolName = NaN)."
   ]
  },
  {
   "cell_type": "code",
   "execution_count": 29,
   "metadata": {},
   "outputs": [],
   "source": [
    "# Drop rows if SchoolName = NaN\n",
    "\n",
    "grad = grad[grad['SchoolName'].notna()]"
   ]
  },
  {
   "cell_type": "markdown",
   "metadata": {},
   "source": [
    "Let's verify that this worked by looking at the shape of the dataset again."
   ]
  },
  {
   "cell_type": "code",
   "execution_count": 30,
   "metadata": {},
   "outputs": [
    {
     "data": {
      "text/plain": [
       "(14035, 18)"
      ]
     },
     "execution_count": 30,
     "metadata": {},
     "output_type": "execute_result"
    }
   ],
   "source": [
    "# Number of observations and number of columns in dataset\n",
    "\n",
    "grad.shape"
   ]
  },
  {
   "cell_type": "markdown",
   "metadata": {},
   "source": [
    "4.4. There are some rows in the dataset that are for specific Student Group Types (LowIncome, Homeless, Migrant, etc.). We want to include all of these Student Group Types, but get rid of the individual Student Group Type rows. Let's drop these rows from the dataset. First, let's look at the Student Group Types."
   ]
  },
  {
   "cell_type": "code",
   "execution_count": 31,
   "metadata": {},
   "outputs": [
    {
     "data": {
      "text/plain": [
       "Race         3229\n",
       "Gender       1447\n",
       "LowIncome    1399\n",
       "sped         1351\n",
       "Homeless     1312\n",
       "504          1284\n",
       "ELL          1197\n",
       "Foster       1089\n",
       "Migrant       983\n",
       "All           744\n",
       "Name: StudentGroupType, dtype: int64"
      ]
     },
     "execution_count": 31,
     "metadata": {},
     "output_type": "execute_result"
    }
   ],
   "source": [
    "# Explore the levels of Student Group Type variable\n",
    "\n",
    "grad.StudentGroupType.value_counts()"
   ]
  },
  {
   "cell_type": "markdown",
   "metadata": {},
   "source": [
    "Let's only keep the rows where the Student Group Type = All."
   ]
  },
  {
   "cell_type": "code",
   "execution_count": 32,
   "metadata": {},
   "outputs": [],
   "source": [
    "# Keep rows if Student Group Type is all\n",
    "\n",
    "grad=grad.loc[grad['StudentGroupType'] == 'All']"
   ]
  },
  {
   "cell_type": "markdown",
   "metadata": {},
   "source": [
    "We also want to drop rows if the Student Group Type is missing (Student Group Type = NaN)."
   ]
  },
  {
   "cell_type": "code",
   "execution_count": 33,
   "metadata": {},
   "outputs": [],
   "source": [
    "# Drop rows if Student Group Type is NaN\n",
    "\n",
    "grad = grad[grad['StudentGroupType'].notna()]"
   ]
  },
  {
   "cell_type": "markdown",
   "metadata": {},
   "source": [
    "4.5. There are some rows that having missing data in columns 5-16. Let's drop these rows by first making them into a vector (c) and then dropping that vector."
   ]
  },
  {
   "cell_type": "code",
   "execution_count": 34,
   "metadata": {},
   "outputs": [],
   "source": [
    "# Drop if rows all NaN for columns 5-16\n",
    "\n",
    "c = grad.iloc[:,5:17].columns\n",
    "grad=grad.dropna(axis=0,subset=c,thresh=2)"
   ]
  },
  {
   "cell_type": "markdown",
   "metadata": {},
   "source": [
    "#### 5. Drop Variables We No Longer Need"
   ]
  },
  {
   "cell_type": "markdown",
   "metadata": {},
   "source": [
    "5.1. Now that we've cleaned all of the rows, we can drop some more variables that we no longer need (Cohort, Student Group Type). "
   ]
  },
  {
   "cell_type": "code",
   "execution_count": 35,
   "metadata": {},
   "outputs": [],
   "source": [
    "# Drop variables Cohort and Student Group Type\n",
    "\n",
    "grad=grad.drop(columns=['StudentGroupType','Cohort'])"
   ]
  },
  {
   "cell_type": "markdown",
   "metadata": {},
   "source": [
    "5.2. Let's verify that this worked by looking at all the variables in the dataset."
   ]
  },
  {
   "cell_type": "code",
   "execution_count": 36,
   "metadata": {},
   "outputs": [
    {
     "name": "stdout",
     "output_type": "stream",
     "text": [
      "<class 'pandas.core.frame.DataFrame'>\n",
      "Int64Index: 483 entries, 130 to 55950\n",
      "Data columns (total 16 columns):\n",
      " #   Column           Non-Null Count  Dtype  \n",
      "---  ------           --------------  -----  \n",
      " 0   DistrictCode     474 non-null    float64\n",
      " 1   DistrictName     483 non-null    object \n",
      " 2   SchoolCode       474 non-null    float64\n",
      " 3   SchoolName       483 non-null    object \n",
      " 4   BegginingGrade9  473 non-null    float64\n",
      " 5   TransferIn       442 non-null    float64\n",
      " 6   Year1Dropout     157 non-null    float64\n",
      " 7   Year2Dropout     282 non-null    float64\n",
      " 8   Year3Dropout     357 non-null    float64\n",
      " 9   Year4Dropout     405 non-null    float64\n",
      " 10  TransferOut      483 non-null    float64\n",
      " 11  FinalCohort      483 non-null    float64\n",
      " 12  Graduate         483 non-null    float64\n",
      " 13  Continuing       483 non-null    float64\n",
      " 14  Dropout          483 non-null    float64\n",
      " 15  GraduationRate   431 non-null    float64\n",
      "dtypes: float64(14), object(2)\n",
      "memory usage: 64.1+ KB\n"
     ]
    }
   ],
   "source": [
    "# Explore the variables in the dataset\n",
    "\n",
    "grad.info()"
   ]
  },
  {
   "cell_type": "markdown",
   "metadata": {},
   "source": [
    "5.3. Let's also double-check by looking at the summary statistics of our dataset."
   ]
  },
  {
   "cell_type": "code",
   "execution_count": 37,
   "metadata": {},
   "outputs": [
    {
     "data": {
      "text/html": [
       "<div>\n",
       "<style scoped>\n",
       "    .dataframe tbody tr th:only-of-type {\n",
       "        vertical-align: middle;\n",
       "    }\n",
       "\n",
       "    .dataframe tbody tr th {\n",
       "        vertical-align: top;\n",
       "    }\n",
       "\n",
       "    .dataframe thead th {\n",
       "        text-align: right;\n",
       "    }\n",
       "</style>\n",
       "<table border=\"1\" class=\"dataframe\">\n",
       "  <thead>\n",
       "    <tr style=\"text-align: right;\">\n",
       "      <th></th>\n",
       "      <th>DistrictCode</th>\n",
       "      <th>SchoolCode</th>\n",
       "      <th>BegginingGrade9</th>\n",
       "      <th>TransferIn</th>\n",
       "      <th>Year1Dropout</th>\n",
       "      <th>Year2Dropout</th>\n",
       "      <th>Year3Dropout</th>\n",
       "      <th>Year4Dropout</th>\n",
       "      <th>TransferOut</th>\n",
       "      <th>FinalCohort</th>\n",
       "      <th>Graduate</th>\n",
       "      <th>Continuing</th>\n",
       "      <th>Dropout</th>\n",
       "      <th>GraduationRate</th>\n",
       "    </tr>\n",
       "  </thead>\n",
       "  <tbody>\n",
       "    <tr>\n",
       "      <th>count</th>\n",
       "      <td>474.000000</td>\n",
       "      <td>474.000000</td>\n",
       "      <td>473.000000</td>\n",
       "      <td>442.000000</td>\n",
       "      <td>157.000000</td>\n",
       "      <td>282.000000</td>\n",
       "      <td>357.000000</td>\n",
       "      <td>405.000000</td>\n",
       "      <td>483.000000</td>\n",
       "      <td>483.000000</td>\n",
       "      <td>483.000000</td>\n",
       "      <td>483.000000</td>\n",
       "      <td>483.000000</td>\n",
       "      <td>431.000000</td>\n",
       "    </tr>\n",
       "    <tr>\n",
       "      <th>mean</th>\n",
       "      <td>22436.500000</td>\n",
       "      <td>3403.421941</td>\n",
       "      <td>320.640592</td>\n",
       "      <td>51.606335</td>\n",
       "      <td>4.751592</td>\n",
       "      <td>6.078014</td>\n",
       "      <td>10.700280</td>\n",
       "      <td>23.014815</td>\n",
       "      <td>41.511387</td>\n",
       "      <td>319.716356</td>\n",
       "      <td>264.279503</td>\n",
       "      <td>23.136646</td>\n",
       "      <td>32.300207</td>\n",
       "      <td>0.736495</td>\n",
       "    </tr>\n",
       "    <tr>\n",
       "      <th>std</th>\n",
       "      <td>10404.449408</td>\n",
       "      <td>1193.508748</td>\n",
       "      <td>1621.283119</td>\n",
       "      <td>251.472324</td>\n",
       "      <td>14.820142</td>\n",
       "      <td>23.925766</td>\n",
       "      <td>45.337961</td>\n",
       "      <td>109.504215</td>\n",
       "      <td>205.201433</td>\n",
       "      <td>1641.391612</td>\n",
       "      <td>1364.742141</td>\n",
       "      <td>116.435947</td>\n",
       "      <td>166.159833</td>\n",
       "      <td>0.248761</td>\n",
       "    </tr>\n",
       "    <tr>\n",
       "      <th>min</th>\n",
       "      <td>1147.000000</td>\n",
       "      <td>1502.000000</td>\n",
       "      <td>1.000000</td>\n",
       "      <td>1.000000</td>\n",
       "      <td>1.000000</td>\n",
       "      <td>1.000000</td>\n",
       "      <td>1.000000</td>\n",
       "      <td>1.000000</td>\n",
       "      <td>0.000000</td>\n",
       "      <td>0.000000</td>\n",
       "      <td>0.000000</td>\n",
       "      <td>0.000000</td>\n",
       "      <td>0.000000</td>\n",
       "      <td>0.014300</td>\n",
       "    </tr>\n",
       "    <tr>\n",
       "      <th>25%</th>\n",
       "      <td>17001.000000</td>\n",
       "      <td>2416.250000</td>\n",
       "      <td>31.000000</td>\n",
       "      <td>6.250000</td>\n",
       "      <td>1.000000</td>\n",
       "      <td>1.000000</td>\n",
       "      <td>2.000000</td>\n",
       "      <td>3.000000</td>\n",
       "      <td>3.000000</td>\n",
       "      <td>28.500000</td>\n",
       "      <td>13.000000</td>\n",
       "      <td>2.000000</td>\n",
       "      <td>3.000000</td>\n",
       "      <td>0.663000</td>\n",
       "    </tr>\n",
       "    <tr>\n",
       "      <th>50%</th>\n",
       "      <td>21352.000000</td>\n",
       "      <td>3274.000000</td>\n",
       "      <td>100.000000</td>\n",
       "      <td>18.000000</td>\n",
       "      <td>2.000000</td>\n",
       "      <td>2.000000</td>\n",
       "      <td>4.000000</td>\n",
       "      <td>7.000000</td>\n",
       "      <td>12.000000</td>\n",
       "      <td>99.000000</td>\n",
       "      <td>61.000000</td>\n",
       "      <td>8.000000</td>\n",
       "      <td>10.000000</td>\n",
       "      <td>0.846200</td>\n",
       "    </tr>\n",
       "    <tr>\n",
       "      <th>75%</th>\n",
       "      <td>31176.500000</td>\n",
       "      <td>4293.250000</td>\n",
       "      <td>297.000000</td>\n",
       "      <td>44.750000</td>\n",
       "      <td>3.000000</td>\n",
       "      <td>4.000000</td>\n",
       "      <td>7.000000</td>\n",
       "      <td>14.000000</td>\n",
       "      <td>33.500000</td>\n",
       "      <td>300.000000</td>\n",
       "      <td>269.500000</td>\n",
       "      <td>15.000000</td>\n",
       "      <td>21.000000</td>\n",
       "      <td>0.908650</td>\n",
       "    </tr>\n",
       "    <tr>\n",
       "      <th>max</th>\n",
       "      <td>39209.000000</td>\n",
       "      <td>5953.000000</td>\n",
       "      <td>30444.000000</td>\n",
       "      <td>4609.000000</td>\n",
       "      <td>170.000000</td>\n",
       "      <td>337.000000</td>\n",
       "      <td>692.000000</td>\n",
       "      <td>1774.000000</td>\n",
       "      <td>3836.000000</td>\n",
       "      <td>31217.000000</td>\n",
       "      <td>26177.000000</td>\n",
       "      <td>2067.000000</td>\n",
       "      <td>2973.000000</td>\n",
       "      <td>0.988500</td>\n",
       "    </tr>\n",
       "  </tbody>\n",
       "</table>\n",
       "</div>"
      ],
      "text/plain": [
       "       DistrictCode   SchoolCode  BegginingGrade9   TransferIn  Year1Dropout  \\\n",
       "count    474.000000   474.000000       473.000000   442.000000    157.000000   \n",
       "mean   22436.500000  3403.421941       320.640592    51.606335      4.751592   \n",
       "std    10404.449408  1193.508748      1621.283119   251.472324     14.820142   \n",
       "min     1147.000000  1502.000000         1.000000     1.000000      1.000000   \n",
       "25%    17001.000000  2416.250000        31.000000     6.250000      1.000000   \n",
       "50%    21352.000000  3274.000000       100.000000    18.000000      2.000000   \n",
       "75%    31176.500000  4293.250000       297.000000    44.750000      3.000000   \n",
       "max    39209.000000  5953.000000     30444.000000  4609.000000    170.000000   \n",
       "\n",
       "       Year2Dropout  Year3Dropout  Year4Dropout  TransferOut   FinalCohort  \\\n",
       "count    282.000000    357.000000    405.000000   483.000000    483.000000   \n",
       "mean       6.078014     10.700280     23.014815    41.511387    319.716356   \n",
       "std       23.925766     45.337961    109.504215   205.201433   1641.391612   \n",
       "min        1.000000      1.000000      1.000000     0.000000      0.000000   \n",
       "25%        1.000000      2.000000      3.000000     3.000000     28.500000   \n",
       "50%        2.000000      4.000000      7.000000    12.000000     99.000000   \n",
       "75%        4.000000      7.000000     14.000000    33.500000    300.000000   \n",
       "max      337.000000    692.000000   1774.000000  3836.000000  31217.000000   \n",
       "\n",
       "           Graduate   Continuing      Dropout  GraduationRate  \n",
       "count    483.000000   483.000000   483.000000      431.000000  \n",
       "mean     264.279503    23.136646    32.300207        0.736495  \n",
       "std     1364.742141   116.435947   166.159833        0.248761  \n",
       "min        0.000000     0.000000     0.000000        0.014300  \n",
       "25%       13.000000     2.000000     3.000000        0.663000  \n",
       "50%       61.000000     8.000000    10.000000        0.846200  \n",
       "75%      269.500000    15.000000    21.000000        0.908650  \n",
       "max    26177.000000  2067.000000  2973.000000        0.988500  "
      ]
     },
     "execution_count": 37,
     "metadata": {},
     "output_type": "execute_result"
    }
   ],
   "source": [
    "# Summary statistics\n",
    "\n",
    "grad.describe()"
   ]
  },
  {
   "cell_type": "markdown",
   "metadata": {},
   "source": [
    "#### 6. Checking if there are missing data"
   ]
  },
  {
   "cell_type": "markdown",
   "metadata": {},
   "source": [
    "6.1. We dropped rows with missing data earlier, but let's look to see if there are any more missing data in our dataset. To do this, we need to import the package numpy. When we import this package, let's save it as \"np\", so it's easier to work with."
   ]
  },
  {
   "cell_type": "code",
   "execution_count": 38,
   "metadata": {},
   "outputs": [],
   "source": [
    "# Importing the numpy package\n",
    "\n",
    "import numpy as np"
   ]
  },
  {
   "cell_type": "markdown",
   "metadata": {},
   "source": [
    "6.2. Now, let's look to see if there are missing data in the dataset."
   ]
  },
  {
   "cell_type": "code",
   "execution_count": 39,
   "metadata": {},
   "outputs": [
    {
     "data": {
      "text/plain": [
       "True"
      ]
     },
     "execution_count": 39,
     "metadata": {},
     "output_type": "execute_result"
    }
   ],
   "source": [
    "# Check for missing data\n",
    "\n",
    "np.any(grad.isnull())"
   ]
  },
  {
   "cell_type": "markdown",
   "metadata": {},
   "source": [
    "#### 7. Saving Cleaned Dataset"
   ]
  },
  {
   "cell_type": "markdown",
   "metadata": {},
   "source": [
    "7.1. Now, it's time to save our cleaned dataset. We want to save our data as a csv file."
   ]
  },
  {
   "cell_type": "code",
   "execution_count": 40,
   "metadata": {},
   "outputs": [],
   "source": [
    "# Save cleaned dataset as a csv file\n",
    "\n",
    "grad.to_csv('./graduation.csv', index=False)"
   ]
  }
 ],
 "metadata": {
  "kernelspec": {
   "display_name": "Python 3",
   "language": "python",
   "name": "python3"
  },
  "language_info": {
   "codemirror_mode": {
    "name": "ipython",
    "version": 3
   },
   "file_extension": ".py",
   "mimetype": "text/x-python",
   "name": "python",
   "nbconvert_exporter": "python",
   "pygments_lexer": "ipython3",
   "version": "3.8.5"
  }
 },
 "nbformat": 4,
 "nbformat_minor": 4
}
